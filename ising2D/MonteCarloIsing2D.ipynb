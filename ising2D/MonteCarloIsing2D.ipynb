{
 "cells": [
  {
   "cell_type": "markdown",
   "metadata": {},
   "source": [
    "# Construcción de una rutina Monte Carlo para la simulación del modelo de Ising 2D"
   ]
  },
  {
   "cell_type": "markdown",
   "metadata": {},
   "source": [
    "Este manual está elaborado con el fin de proporcionar una guía práctica para la elaboración de un programa Monte Carlo para la simulación del modelo de Ising 2D. El programa está construido en **python3**. Es cierto que la complejidad del programa es mínima, pero la eficiencia de los ciclos en python es mínima. Es por ello que cabe resaltar que es recomendable emplear otro lenguaje, como **C++** o **Fortran**, para la implementación del paso Monte Carlo y el algoritmo de Metrópolis.\n",
    "\n",
    "El sistema que se desea simular es un Ising 2D, cuyo Hamiltoniano consiste únicamente en el término de intercambio \n",
    "\n",
    "$$\\mathcal{H}=-J\\sum_{\\left\\langle i,j\\right\\rangle }\\sigma_{i}\\sigma_{j}$$\n",
    "donde $J$ es la constante de intercambio y $\\sigma_{i}$ y $\\sigma_{j}$ son los espines de los sitios $i$ y $j$, respectivamente.\n",
    "\n",
    "Para calcular la magnetización se emplea \n",
    "\n",
    "$$M=\\sum_{i}\\sigma_{i}$$\n",
    "Para el cálculo de la susceptibilidad magnética y el calor específico se sigue\n",
    "$$\\chi\t=\t\\frac{\\left(\\left\\langle M^{2}\\right\\rangle -\\left\\langle M\\right\\rangle ^{2}\\right)}{k_{B}T}$$\n",
    "\t\t\n",
    "$$C_{v}\t=\t\\frac{\\left(\\left\\langle E^{2}\\right\\rangle -\\left\\langle E\\right\\rangle ^{2}\\right)}{k_{B}T^{2}}$$"
   ]
  },
  {
   "cell_type": "markdown",
   "metadata": {},
   "source": [
    "## Importación de librerías"
   ]
  },
  {
   "cell_type": "code",
   "execution_count": 42,
   "metadata": {},
   "outputs": [],
   "source": [
    "import numpy\n",
    "from matplotlib import pyplot\n",
    "import itertools\n",
    "%matplotlib inline"
   ]
  },
  {
   "cell_type": "markdown",
   "metadata": {},
   "source": [
    "- **numpy** se emplea para computación científica. Esta contiene muchas funciones para cálculos numéricos.\n",
    "- **pyplot** se emplea para las gráficas.\n",
    "- **itertools** es una librería para construcción de iteradores.\n",
    "- la sentencia **%matplotlib inline** es por si se está haciendo este tutorial en un ipython notebook, las gráficas de matplotlib sean mostradas dentro de celdas."
   ]
  },
  {
   "cell_type": "markdown",
   "metadata": {},
   "source": [
    "## Definición de constantes"
   ]
  },
  {
   "cell_type": "code",
   "execution_count": 43,
   "metadata": {},
   "outputs": [],
   "source": [
    "length = 10\n",
    "J = 1.0\n",
    "kB = 1.0\n",
    "\n",
    "N = length * length"
   ]
  },
  {
   "cell_type": "markdown",
   "metadata": {},
   "source": [
    "- **length** es la longitud de nuestro sistema. \n",
    "- **J** es la constante de intercambio.\n",
    "- **kB** es la constante de Boltzmann.\n",
    "- **N** es la cantidad de sitios, la cual es igual a length $\\times$ length."
   ]
  },
  {
   "cell_type": "markdown",
   "metadata": {},
   "source": [
    "## Creación de arreglos"
   ]
  },
  {
   "cell_type": "code",
   "execution_count": 44,
   "metadata": {},
   "outputs": [],
   "source": [
    "sites = []\n",
    "spins = []"
   ]
  },
  {
   "cell_type": "markdown",
   "metadata": {},
   "source": [
    "- **sites** es una lista donde se almacenarán las parejas $(i, j)$ de los sitios de la red.\n",
    "- **spins** es una lista donde se almacenarán los espines para cada sitio. De esta forma, **spins** y **sites** tendrán el mismo tamaño y se corresponderán uno a uno."
   ]
  },
  {
   "cell_type": "markdown",
   "metadata": {},
   "source": [
    "## Creación de la muestra"
   ]
  },
  {
   "cell_type": "markdown",
   "metadata": {},
   "source": [
    "Creamos la red cuadrada de lado **length** y agregamos a la lista **sites** las parejas $(i, j)$. Se puede observar que **sites** es una lista donde cada elemento es una tupla que corresponde a un sitio:"
   ]
  },
  {
   "cell_type": "code",
   "execution_count": 45,
   "metadata": {},
   "outputs": [],
   "source": [
    "sites = list(itertools.product(range(length), range(length)))"
   ]
  },
  {
   "cell_type": "markdown",
   "metadata": {},
   "source": [
    "Debemos crear la red cuadrada de lado **length** y agregar a la lista **sites** las parejas $(i, j)$ como tuplas. Se puede observar que **sites** es una lista donde cada elemento es una tupla que corresponde a un sitio:"
   ]
  },
  {
   "cell_type": "code",
   "execution_count": 46,
   "metadata": {},
   "outputs": [
    {
     "name": "stdout",
     "output_type": "stream",
     "text": [
      "[(0, 0), (0, 1), (0, 2), (0, 3), (0, 4), (0, 5), (0, 6), (0, 7), (0, 8), (0, 9), (1, 0), (1, 1), (1, 2), (1, 3), (1, 4), (1, 5), (1, 6), (1, 7), (1, 8), (1, 9), (2, 0), (2, 1), (2, 2), (2, 3), (2, 4), (2, 5), (2, 6), (2, 7), (2, 8), (2, 9), (3, 0), (3, 1), (3, 2), (3, 3), (3, 4), (3, 5), (3, 6), (3, 7), (3, 8), (3, 9), (4, 0), (4, 1), (4, 2), (4, 3), (4, 4), (4, 5), (4, 6), (4, 7), (4, 8), (4, 9), (5, 0), (5, 1), (5, 2), (5, 3), (5, 4), (5, 5), (5, 6), (5, 7), (5, 8), (5, 9), (6, 0), (6, 1), (6, 2), (6, 3), (6, 4), (6, 5), (6, 6), (6, 7), (6, 8), (6, 9), (7, 0), (7, 1), (7, 2), (7, 3), (7, 4), (7, 5), (7, 6), (7, 7), (7, 8), (7, 9), (8, 0), (8, 1), (8, 2), (8, 3), (8, 4), (8, 5), (8, 6), (8, 7), (8, 8), (8, 9), (9, 0), (9, 1), (9, 2), (9, 3), (9, 4), (9, 5), (9, 6), (9, 7), (9, 8), (9, 9)]\n"
     ]
    }
   ],
   "source": [
    "print(sites)"
   ]
  },
  {
   "cell_type": "markdown",
   "metadata": {},
   "source": [
    "## Creación de estado aleatorio"
   ]
  },
  {
   "cell_type": "markdown",
   "metadata": {},
   "source": [
    "La función **random_configuration** recorre todos los sitios y les asigna un valor de 1 o -1 aleatoriamente. Se empleará para darle el estado inicial al sistema a temperatura alta."
   ]
  },
  {
   "cell_type": "code",
   "execution_count": 47,
   "metadata": {},
   "outputs": [],
   "source": [
    "def random_configuration():\n",
    "    return numpy.random.choice([-1, 1], size=len(sites))"
   ]
  },
  {
   "cell_type": "markdown",
   "metadata": {},
   "source": [
    "Con la función anterior, podemos crear un estado inicial para la lista **spins**:"
   ]
  },
  {
   "cell_type": "code",
   "execution_count": 48,
   "metadata": {},
   "outputs": [
    {
     "name": "stdout",
     "output_type": "stream",
     "text": [
      "[ 1  1  1 -1 -1  1  1  1  1 -1 -1  1  1 -1  1  1  1  1 -1  1  1 -1 -1 -1\n",
      " -1  1 -1  1  1 -1  1  1  1  1  1  1  1  1 -1  1  1 -1  1 -1 -1 -1  1  1\n",
      "  1  1 -1  1  1 -1 -1  1 -1  1  1 -1 -1 -1  1 -1  1  1  1  1  1  1 -1  1\n",
      "  1  1  1 -1  1  1 -1 -1 -1 -1  1 -1  1  1 -1  1  1  1 -1  1 -1 -1 -1  1\n",
      "  1  1 -1 -1]\n"
     ]
    }
   ],
   "source": [
    "spins = random_configuration()\n",
    "print(spins)"
   ]
  },
  {
   "cell_type": "markdown",
   "metadata": {},
   "source": [
    "## Función para visualización de los espines"
   ]
  },
  {
   "cell_type": "markdown",
   "metadata": {},
   "source": [
    "Con el fin de visualizar gráficamente un estado, declaramos una función **plot_spins** tal que grafique en cada sitio una flecha de color <span style=\"color: red;\">rojo</span> si el espín del sitio tiene valor 1 o <span style=\"color: azul;\">azul</span> si tiene valor -1."
   ]
  },
  {
   "cell_type": "code",
   "execution_count": 49,
   "metadata": {},
   "outputs": [],
   "source": [
    "def plot_spins():\n",
    "    pyplot.figure()\n",
    "    colors = [\"crimson\" if s == 1 else \"royalblue\" for s in spins]\n",
    "    positions = numpy.array(sites)\n",
    "    x, y = positions.T\n",
    "    pyplot.quiver(x, y, 0, spins, color=colors, pivot=\"middle\", scale=15, width=0.01, lw=0.5)\n",
    "    pyplot.xticks([])\n",
    "    pyplot.yticks([])\n",
    "    pyplot.xlim(-0.5, length - 0.5)\n",
    "    pyplot.ylim(-0.5, length - 0.5)\n",
    "    pyplot.gca().set_aspect(\"equal\")\n",
    "    pyplot.grid()\n",
    "    pyplot.show"
   ]
  },
  {
   "cell_type": "markdown",
   "metadata": {},
   "source": [
    "La función consiste en recorrer cada pareja $(i, j)$ y en cada punto colocar una flecha de color rojo si el sitio tiene valor 1 o azul si tiene valor -1. Se ejecuta la función **plot_spins** para visualizar el estado del sistema:"
   ]
  },
  {
   "cell_type": "code",
   "execution_count": 50,
   "metadata": {},
   "outputs": [
    {
     "data": {
      "image/png": "[encoded data removed]",
      "text/plain": [
       "<matplotlib.figure.Figure at 0x7f60388f3eb8>"
      ]
     },
     "metadata": {},
     "output_type": "display_data"
    }
   ],
   "source": [
    "plot_spins()"
   ]
  },
  {
   "cell_type": "markdown",
   "metadata": {},
   "source": [
    "## Asignación de vecinos"
   ]
  },
  {
   "cell_type": "markdown",
   "metadata": {},
   "source": [
    "En este punto, debemos calcular los vecinos de cada sitio. Para esto, creamos un diccionario **nbhs** donde las *keys* serán los índices de los sitios y los *values* serán una lista de índices que corresponden a los vecinos de cada sitio. **Recordemos que el sistema tiene condiciones periódicas de frontera**."
   ]
  },
  {
   "cell_type": "code",
   "execution_count": 51,
   "metadata": {},
   "outputs": [],
   "source": [
    "nbhs = {}\n",
    "for i, site in enumerate(sites):\n",
    "    x, y = site\n",
    "    nbh1 = sites.index(((x + 1) % length, y))\n",
    "    nbh2 = sites.index(((x - 1) % length, y))\n",
    "    nbh3 = sites.index((x, (y + 1) % length))\n",
    "    nbh4 = sites.index((x, (y - 1) % length))\n",
    "    nbhs[i] = (nbh1, nbh2, nbh3, nbh4)"
   ]
  },
  {
   "cell_type": "markdown",
   "metadata": {},
   "source": [
    "En vista de que cada sitio tiene 4 vecinos, el número total de interacciones debe ser igual a $4\\times N$. Es por eso que podemos hacer un *assert*:"
   ]
  },
  {
   "cell_type": "code",
   "execution_count": 52,
   "metadata": {},
   "outputs": [],
   "source": [
    "num_interactions = numpy.sum([len(nbhs[i]) for i in range(N)])\n",
    "assert(num_interactions == 4*N)"
   ]
  },
  {
   "cell_type": "markdown",
   "metadata": {},
   "source": [
    "## Creación de funciones para cálculo de energía local, energía total y magnetización"
   ]
  },
  {
   "cell_type": "code",
   "execution_count": 53,
   "metadata": {},
   "outputs": [],
   "source": [
    "def energy_site(index):\n",
    "    energy = 0.0\n",
    "    for nbh in nbhs[index]:\n",
    "        energy += spins[index] * spins[nbh]\n",
    "    return -J * energy\n",
    "\n",
    "def total_energy():\n",
    "    energy = 0.0\n",
    "    for index in range(N):\n",
    "        energy += energy_site(index)\n",
    "    return 0.5 * energy\n",
    "\n",
    "def magnetization():\n",
    "    return numpy.sum(spins)"
   ]
  },
  {
   "cell_type": "markdown",
   "metadata": {},
   "source": [
    "- La función **energy_site** calcula la energía local del sitio con índice *index*. Debe recibir como argumento un entero que corresponde al índice del sitio $(i, j)$ en la lista **sites**. Recordemos que el Hamiltoniano sólo tiene el término de intercambio.\n",
    "- La función **total_energy** calcula la energía total del sistema sumando las energías locales de cada sitio. Al final se debe dividir por 2 debido a que las interacciones se cuentan 2 veces.\n",
    "- La función **magnetization** computa la magnetización total de la red sumando los valores del espín de cada sitio."
   ]
  },
  {
   "cell_type": "markdown",
   "metadata": {},
   "source": [
    "Si se imprime la magnetización del sistema, debe ser consecuente con la suma de los espines en la figura:"
   ]
  },
  {
   "cell_type": "code",
   "execution_count": 54,
   "metadata": {},
   "outputs": [
    {
     "name": "stdout",
     "output_type": "stream",
     "text": [
      "magnetization =  22\n"
     ]
    },
    {
     "data": {
      "image/png": "[encoded data removed]",
      "text/plain": [
       "<matplotlib.figure.Figure at 0x7f60387a7320>"
      ]
     },
     "metadata": {},
     "output_type": "display_data"
    }
   ],
   "source": [
    "plot_spins()\n",
    "print(\"magnetization = \", magnetization())"
   ]
  },
  {
   "cell_type": "markdown",
   "metadata": {},
   "source": [
    "## Implementación del algoritmo de Metrópolis"
   ]
  },
  {
   "cell_type": "code",
   "execution_count": 55,
   "metadata": {},
   "outputs": [],
   "source": [
    "def metropolis(index, T):\n",
    "    oldSpin = spins[index]\n",
    "    oldEnergy = energy_site(index)\n",
    "    spins[index] *= -1\n",
    "    newEnergy = energy_site(index)\n",
    "    deltaE = newEnergy - oldEnergy\n",
    "    if deltaE <= 0:\n",
    "        pass\n",
    "    else:\n",
    "        if numpy.random.uniform(0, 1) <= numpy.exp(-deltaE/(kB*T)):\n",
    "            pass\n",
    "        else:\n",
    "            spins[index] *= -1"
   ]
  },
  {
   "cell_type": "markdown",
   "metadata": {},
   "source": [
    "Para mayor información, se puede consultar el algoritmo de Metrópolis en http://hua-zhou.github.io/teaching/st758-2014fall/top10/metropolis.pdf"
   ]
  },
  {
   "cell_type": "markdown",
   "metadata": {},
   "source": [
    "## Implementación del paso Monte Carlo"
   ]
  },
  {
   "cell_type": "code",
   "execution_count": 56,
   "metadata": {},
   "outputs": [],
   "source": [
    "def monte_carlo_step(T):\n",
    "    for index in range(N):\n",
    "        index_rand_site = numpy.random.randint(0, N)\n",
    "        metropolis(index_rand_site, T)"
   ]
  },
  {
   "cell_type": "markdown",
   "metadata": {},
   "source": [
    "Un paso Monte Carlo consiste en recorrer la cantidad de sitios que tenga la red aleatoriamente y en cada elección aplicar el algoritmo de Metrópolis."
   ]
  },
  {
   "cell_type": "markdown",
   "metadata": {},
   "source": [
    "# Simulación"
   ]
  },
  {
   "cell_type": "markdown",
   "metadata": {},
   "source": [
    "## Definición de parámetros"
   ]
  },
  {
   "cell_type": "code",
   "execution_count": 57,
   "metadata": {},
   "outputs": [],
   "source": [
    "mcs = 10000\n",
    "high_T = 5.0\n",
    "low_T = 0.01\n",
    "step = -0.1\n",
    "assert (high_T >= low_T)"
   ]
  },
  {
   "cell_type": "markdown",
   "metadata": {},
   "source": [
    "Se definen los parámetros de la simulación. Entre ellos está la cantidad de pasos Monte Carlo **mcs**, la temperatura inicial **high_T** y la temperatura final **low_T**. Recordemos que $T_{\\rm high} \\geq T_{\\rm low}$. A su vez, se define el paso entre temperaturas **step**."
   ]
  },
  {
   "cell_type": "markdown",
   "metadata": {},
   "source": [
    "## Ciclo de temperatura"
   ]
  },
  {
   "cell_type": "markdown",
   "metadata": {},
   "source": [
    "Se crea el arreglo de temperaturas con los valores establecidos anteriormente. Se aloja espacio para almacenar la energía del sistema y la magnetización. Se recorre las temperaturas y los pasos Monte Carlo. En cada paso de temperatura y en cada paso Monte Carlo se almacena la energía total y la magnetización del sistema. Los arreglos **energies** y **magnetizations** se emplearán para calcular los promedios estadísticos."
   ]
  },
  {
   "cell_type": "code",
   "execution_count": null,
   "metadata": {},
   "outputs": [
    {
     "name": "stdout",
     "output_type": "stream",
     "text": [
      "computing T = 5.00000 ...\n",
      "computing T = 4.90000 ...\n",
      "computing T = 4.80000 ...\n",
      "computing T = 4.70000 ...\n"
     ]
    }
   ],
   "source": [
    "%%time\n",
    "temps = numpy.arange(high_T, low_T, step)\n",
    "energies = numpy.zeros(shape=(len(temps), mcs))\n",
    "magnetizations = numpy.zeros(shape=(len(temps), mcs))\n",
    "random_configuration()\n",
    "for T_index, T in enumerate(temps):\n",
    "    print(\"computing T = %.5f ...\" % T)\n",
    "    for i in range(mcs):\n",
    "        monte_carlo_step(T)\n",
    "        energies[T_index, i] = total_energy()\n",
    "        magnetizations[T_index, i] = magnetization()\n",
    "    "
   ]
  },
  {
   "cell_type": "markdown",
   "metadata": {},
   "source": [
    "Una simulación con 10000 pasos Monte Carlo, length = 10, desde $T_{\\rm high}=5.0$ hasta $T_{\\rm low}=0.01$ con una paso de $\\Delta T = -0.1$ en un computador con Intel® Core™ i7-3612QM CPU @ 2.10GHz tardó 20min 45s."
   ]
  },
  {
   "cell_type": "markdown",
   "metadata": {},
   "source": [
    "Es posible observar el estado final de la muestra a la última temperatura:"
   ]
  },
  {
   "cell_type": "code",
   "execution_count": null,
   "metadata": {},
   "outputs": [],
   "source": [
    "plot_spins()"
   ]
  },
  {
   "cell_type": "markdown",
   "metadata": {},
   "source": [
    "# Graficación"
   ]
  },
  {
   "cell_type": "markdown",
   "metadata": {},
   "source": [
    "## Cálculo de promedios"
   ]
  },
  {
   "cell_type": "markdown",
   "metadata": {},
   "source": [
    "Se rechaza la mitad de pasos Monte Carlo para la relajación. La otra mitad se promedia."
   ]
  },
  {
   "cell_type": "code",
   "execution_count": null,
   "metadata": {},
   "outputs": [],
   "source": [
    "tau = mcs // 2\n",
    "energy_mean = numpy.mean(energies[:, tau:], axis=1)\n",
    "magnetization_mean = numpy.mean(numpy.abs(magnetizations[:, tau:]), axis=1)"
   ]
  },
  {
   "cell_type": "markdown",
   "metadata": {},
   "source": [
    "## Gráficas para la energía total y la magnetización en función de la temperatura"
   ]
  },
  {
   "cell_type": "code",
   "execution_count": null,
   "metadata": {},
   "outputs": [],
   "source": [
    "pyplot.figure()\n",
    "pyplot.plot(temps, energy_mean, \"-s\", color=\"royalblue\")\n",
    "pyplot.xlabel(r\"$T$\", fontsize=20)\n",
    "pyplot.ylabel(r\"$\\left<E\\right>$\", fontsize=20)\n",
    "pyplot.grid()\n",
    "pyplot.show()\n",
    "\n",
    "pyplot.figure()\n",
    "pyplot.plot(temps, magnetization_mean, \"-o\", color=\"crimson\")\n",
    "pyplot.xlabel(r\"$T$\", fontsize=20)\n",
    "pyplot.ylabel(r\"$\\left<M\\right>$\", fontsize=20)\n",
    "pyplot.grid()\n",
    "pyplot.show()"
   ]
  },
  {
   "cell_type": "markdown",
   "metadata": {},
   "source": [
    "## Cálculo de la susceptibilidad magnética"
   ]
  },
  {
   "cell_type": "code",
   "execution_count": null,
   "metadata": {},
   "outputs": [],
   "source": [
    "magnetization_std = numpy.std(numpy.abs(magnetizations[:, tau:]), axis=1)\n",
    "susceptibility = magnetization_std ** 2 / (kB * temps)\n",
    "\n",
    "pyplot.figure()\n",
    "pyplot.plot(temps, susceptibility, \"-o\", color=\"crimson\")\n",
    "pyplot.xlabel(r\"$T$\", fontsize=20)\n",
    "pyplot.ylabel(r\"$\\chi$\", fontsize=20)\n",
    "pyplot.grid()\n",
    "pyplot.show()"
   ]
  },
  {
   "cell_type": "markdown",
   "metadata": {},
   "source": [
    "## Cálculo del calor específico"
   ]
  },
  {
   "cell_type": "code",
   "execution_count": null,
   "metadata": {},
   "outputs": [],
   "source": [
    "energy_std = numpy.std(energies[:, tau:], axis=1)\n",
    "specific_heat = energy_std ** 2 / (kB * temps * temps)\n",
    "\n",
    "pyplot.figure()\n",
    "pyplot.plot(temps, specific_heat, \"-s\", color=\"royalblue\")\n",
    "pyplot.xlabel(r\"$T$\", fontsize=20)\n",
    "pyplot.ylabel(r\"$C_v$\", fontsize=20)\n",
    "pyplot.grid()\n",
    "pyplot.show()"
   ]
  }
 ],
 "metadata": {
  "kernelspec": {
   "display_name": "Python 3",
   "language": "python",
   "name": "python3"
  },
  "language_info": {
   "codemirror_mode": {
    "name": "ipython",
    "version": 3
   },
   "file_extension": ".py",
   "mimetype": "text/x-python",
   "name": "python",
   "nbconvert_exporter": "python",
   "pygments_lexer": "ipython3",
   "version": "3.6.6"
  }
 },
 "nbformat": 4,
 "nbformat_minor": 1
}
